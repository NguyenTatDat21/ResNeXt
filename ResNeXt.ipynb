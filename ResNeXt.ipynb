{
  "nbformat": 4,
  "nbformat_minor": 0,
  "metadata": {
    "colab": {
      "name": "ResNeXt.ipynb",
      "provenance": [],
      "collapsed_sections": []
    },
    "kernelspec": {
      "name": "python3",
      "display_name": "Python 3"
    },
    "accelerator": "GPU"
  },
  "cells": [
    {
      "cell_type": "markdown",
      "metadata": {
        "id": "XkBgULk-5oOR",
        "colab_type": "text"
      },
      "source": [
        "Student: Nguyen Tat Dat\n",
        "\n",
        "Id: 18020009\n",
        "\n",
        "Paper: Aggregated Residual Transformations for Deep Neural Networks (ResNeXt)\n",
        "\n"
      ]
    },
    {
      "cell_type": "code",
      "metadata": {
        "id": "pMqYA-hmONFa",
        "colab_type": "code",
        "colab": {}
      },
      "source": [
        "import numpy as np\n",
        "import tensorflow as tf\n",
        "from tensorflow.keras import Model\n",
        "from tensorflow.keras.layers import Conv2D, BatchNormalization, Activation, Input, GlobalAveragePooling2D, Dense, \\\n",
        "    Softmax, add, Lambda, concatenate\n",
        "from tensorflow_addons.optimizers import AdamW\n",
        "from tensorflow.keras.initializers import he_normal\n",
        "from tensorflow.keras.regularizers import l2\n",
        "from tensorflow.keras.activations import relu\n",
        "from tensorflow.keras.optimizers import Adam\n",
        "from tensorflow.keras.losses import sparse_categorical_crossentropy\n",
        "from tensorflow.keras.metrics import sparse_categorical_accuracy\n",
        "from tensorflow.keras.backend import shape\n",
        "from tensorflow import Variable\n",
        "\n",
        "\n",
        "class ResNeXtModel:\n",
        "    def __init__(self, input_shape, nb_classes, structure, cardinality=16, width=4, l2_weight=5e-4):\n",
        "        self.width = width\n",
        "        self.cardinality = cardinality\n",
        "        self.structure = structure\n",
        "        self.input_shape = input_shape\n",
        "        self.nb_classes = nb_classes\n",
        "        self.l2_weight = l2_weight\n",
        "        self.model = self.build_resnext()\n",
        "        self.model.summary()\n",
        "        step = Variable(0, trainable=False)\n",
        "        self.model.compile(optimizer=Adam(learning_rate=1e-3), loss=sparse_categorical_crossentropy, metrics=[sparse_categorical_accuracy])\n",
        "\n",
        "    def initial_block(self, inputs):\n",
        "        x = Conv2D(64, (3, 3), padding='same', kernel_initializer=he_normal(), kernel_regularizer=l2(self.l2_weight), use_bias=False)(\n",
        "            inputs)\n",
        "        x = BatchNormalization()(x)\n",
        "        x = Activation(relu)(x)\n",
        "        return x\n",
        "\n",
        "    def output_block(self, inputs):\n",
        "        x = GlobalAveragePooling2D()(inputs)\n",
        "        x = Dense(self.nb_classes, kernel_initializer=he_normal(), kernel_regularizer=l2(self.l2_weight))(x)\n",
        "        x = Softmax()(x)\n",
        "        return x\n",
        "\n",
        "    def bottleneck_block(self, inputs, nb_filters, strides, pass_filter=False):\n",
        "        x_skip = inputs\n",
        "        if pass_filter:\n",
        "            x_skip = Conv2D(nb_filters * 2, (1, 1), padding='same', kernel_initializer=he_normal(),\n",
        "                            kernel_regularizer=l2(self.l2_weight), strides=(strides, strides), use_bias=False)(x_skip)\n",
        "            x_skip = BatchNormalization()(x_skip)\n",
        "        x = Conv2D(nb_filters, (1, 1), padding='same', kernel_initializer=he_normal(),\n",
        "                   kernel_regularizer=l2(self.l2_weight), use_bias=False)(inputs)\n",
        "        x = BatchNormalization()(x)\n",
        "        x = Activation(relu)(x)\n",
        "\n",
        "        x = self.grouped_block(x, int(nb_filters / self.cardinality), strides)\n",
        "\n",
        "        x = Conv2D(nb_filters * 2, (1, 1), padding='same', kernel_initializer=he_normal(),\n",
        "                   kernel_regularizer=l2(self.l2_weight), use_bias=False)(x)\n",
        "        x = BatchNormalization()(x)\n",
        "\n",
        "        x = add([x_skip, x])\n",
        "\n",
        "        x = Activation(relu)(x)\n",
        "\n",
        "        return x\n",
        "\n",
        "    def build_resnext(self):\n",
        "        inputs = Input(self.input_shape)\n",
        "        x = self.initial_block(inputs)\n",
        "\n",
        "        nb_filters = self.cardinality * self.width\n",
        "        for stage, nb_block in enumerate(self.structure):\n",
        "            for block_id in range(nb_block):\n",
        "                if block_id == 0:\n",
        "                    if stage > 0:\n",
        "                        x = self.bottleneck_block(x, nb_filters, 2, pass_filter=True)\n",
        "                    else:\n",
        "                        x = self.bottleneck_block(x, nb_filters, 1, pass_filter=True)\n",
        "                else:\n",
        "                    x = self.bottleneck_block(x, nb_filters, 1)\n",
        "\n",
        "            nb_filters *= 2\n",
        "\n",
        "        x = self.output_block(x)\n",
        "        model = Model(inputs=inputs, outputs=x)\n",
        "        return model\n",
        "\n",
        "    def fit(self, x, y, x_test, y_test, batch_size, epochs):\n",
        "        self.model.fit(x=x, y=y, validation_data=(x_test, y_test), batch_size=batch_size, epochs=epochs, verbose=2)\n",
        "\n",
        "    def grouped_block(self, inputs, group_size, strides):\n",
        "        group_list = []\n",
        "\n",
        "        for i in range(self.cardinality):\n",
        "            x = Lambda(lambda _inputs: _inputs[:, :, :, i * group_size:(i + 1) * group_size])(inputs)\n",
        "            x = Conv2D(group_size, (3, 3), padding='same', kernel_initializer=he_normal(),\n",
        "                       kernel_regularizer=l2(self.l2_weight), strides=(strides, strides), use_bias=False)(x)\n",
        "            group_list.append(x)\n",
        "\n",
        "        x = concatenate(group_list)\n",
        "        x = BatchNormalization()(x)\n",
        "        x = Activation(relu)(x)\n",
        "        return x\n",
        "\n",
        "    def get_model(self):\n",
        "        return self.model\n"
      ],
      "execution_count": 0,
      "outputs": []
    },
    {
      "cell_type": "code",
      "metadata": {
        "id": "Z443lkigOemH",
        "colab_type": "code",
        "colab": {
          "base_uri": "https://localhost:8080/",
          "height": 34
        },
        "outputId": "2225b0f4-07dd-432e-b421-03fb23698be2"
      },
      "source": [
        "import numpy as np\n",
        "import tensorflow as tf\n",
        "from tensorflow.keras.datasets import cifar10\n",
        "from tensorflow.keras.preprocessing.image import ImageDataGenerator\n",
        "from tensorflow.keras.callbacks import ReduceLROnPlateau\n",
        "import matplotlib.pyplot as plt\n",
        "\n",
        "print(tf.__version__)\n",
        "\n",
        "(x_train, y_train), (x_test, y_test) = cifar10.load_data()\n",
        "x_train = x_train.astype('float32')\n",
        "x_test = x_test.astype('float32')\n",
        "x_train /= 255.\n",
        "x_test /= 255.\n",
        "input_shape = x_train.shape[1:]\n",
        "\n",
        "generator = ImageDataGenerator(rotation_range=15,\n",
        "                               width_shift_range=5./32,\n",
        "                               height_shift_range=5./32,\n",
        "                               horizontal_flip=True)\n",
        "\n",
        "generator.fit(x_train)\n",
        "batch_size = 250\n",
        "\n",
        "\n",
        "\n"
      ],
      "execution_count": 2,
      "outputs": [
        {
          "output_type": "stream",
          "text": [
            "2.2.0-rc3\n"
          ],
          "name": "stdout"
        }
      ]
    },
    {
      "cell_type": "code",
      "metadata": {
        "id": "GeoY0p06CRYH",
        "colab_type": "code",
        "colab": {}
      },
      "source": [
        "lr_reducer = ReduceLROnPlateau(monitor='loss', factor=np.sqrt(0.1), cooldown=0, patience=1, min_lr=1e-6)\n",
        "\n",
        "callbacks = [lr_reducer]\n",
        "model = ResNeXtModel(input_shape=input_shape, nb_classes=10, structure=[3, 3, 3], cardinality=16, width=4).get_model()\n",
        "history = model.fit(generator.flow(x_train, y_train, batch_size=batch_size), steps_per_epoch=len(x_train) // batch_size, epochs=100, callbacks=callbacks, validation_data=(x_test, y_test), validation_steps=x_test.shape[0] // batch_size, verbose=2)"
      ],
      "execution_count": 0,
      "outputs": []
    },
    {
      "cell_type": "code",
      "metadata": {
        "id": "Bi_cElyjaJsO",
        "colab_type": "code",
        "colab": {
          "base_uri": "https://localhost:8080/",
          "height": 590
        },
        "outputId": "ed26c9e0-7840-4419-8702-23bfbdd550c5"
      },
      "source": [
        "%matplotlib inline\n",
        "import matplotlib.pyplot as plt\n",
        "from sklearn.metrics import classification_report, accuracy_score\n",
        "import numpy as np\n",
        "y_pred = np.argmax(model.predict(x_test), axis=1)\n",
        "# summarize history for accuracy\n",
        "plt.plot(history.history['sparse_categorical_accuracy'])\n",
        "plt.plot(history.history['val_sparse_categorical_accuracy'])\n",
        "plt.title('model accuracy')\n",
        "plt.ylabel('accuracy')\n",
        "plt.xlabel('epoch')\n",
        "plt.legend(['train', 'test'], loc='upper left')\n",
        "plt.show()\n",
        "# summarize history for loss\n",
        "plt.plot(history.history['loss'])\n",
        "plt.plot(history.history['val_loss'])\n",
        "plt.title('model loss')\n",
        "plt.ylabel('loss')\n",
        "plt.xlabel('epoch')\n",
        "plt.legend(['train', 'test'], loc='upper left')\n",
        "plt.show()"
      ],
      "execution_count": 11,
      "outputs": [
        {
          "output_type": "stream",
          "text": [
            "Accuracy score:  90.71000000000001\n"
          ],
          "name": "stdout"
        },
        {
          "output_type": "display_data",
          "data": {
            "image/png": "[encoded data removed]",
            "text/plain": [
              "<Figure size 432x288 with 1 Axes>"
            ]
          },
          "metadata": {
            "tags": [],
            "needs_background": "light"
          }
        },
        {
          "output_type": "display_data",
          "data": {
            "image/png": "[encoded data removed]",
            "text/plain": [
              "<Figure size 432x288 with 1 Axes>"
            ]
          },
          "metadata": {
            "tags": [],
            "needs_background": "light"
          }
        }
      ]
    },
    {
      "cell_type": "code",
      "metadata": {
        "id": "MHlRGi9dX9oa",
        "colab_type": "code",
        "colab": {
          "base_uri": "https://localhost:8080/",
          "height": 323
        },
        "outputId": "229ef538-af37-4954-ae7c-1d6fe503707d"
      },
      "source": [
        "\n",
        "print('Accuracy score: ', accuracy_score(y_test, y_pred)*100)\n",
        "print(classification_report(y_test, y_pred))"
      ],
      "execution_count": 12,
      "outputs": [
        {
          "output_type": "stream",
          "text": [
            "Accuracy score:  90.71000000000001\n",
            "              precision    recall  f1-score   support\n",
            "\n",
            "           0       0.91      0.92      0.91      1000\n",
            "           1       0.93      0.97      0.95      1000\n",
            "           2       0.87      0.89      0.88      1000\n",
            "           3       0.86      0.79      0.82      1000\n",
            "           4       0.89      0.91      0.90      1000\n",
            "           5       0.93      0.80      0.86      1000\n",
            "           6       0.86      0.96      0.91      1000\n",
            "           7       0.95      0.94      0.94      1000\n",
            "           8       0.95      0.94      0.95      1000\n",
            "           9       0.93      0.95      0.94      1000\n",
            "\n",
            "    accuracy                           0.91     10000\n",
            "   macro avg       0.91      0.91      0.91     10000\n",
            "weighted avg       0.91      0.91      0.91     10000\n",
            "\n"
          ],
          "name": "stdout"
        }
      ]
    }
  ]
}