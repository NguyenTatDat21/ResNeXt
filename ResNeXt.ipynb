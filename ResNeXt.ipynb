{
 "nbformat": 4,
 "nbformat_minor": 0,
 "metadata": {
  "colab": {
   "name": "ResNeXt.ipynb",
   "provenance": [],
   "collapsed_sections": []
  },
  "kernelspec": {
   "name": "python3",
   "language": "python",
   "display_name": "Python 3"
  },
  "accelerator": "GPU",
  "pycharm": {
   "stem_cell": {
    "cell_type": "raw",
    "source": [],
    "metadata": {
     "collapsed": false
    }
   }
  }
 },
 "cells": [
  {
   "cell_type": "markdown",
   "source": [
    "# Introduction\n",
    "Student: Nguyen Tat Dat\n",
    "\n",
    "Id: 18020009\n",
    "\n",
    "Paper: Aggregated Residual Transformations for Deep Neural Networks (ResNeXt)\n",
    "\n",
    "# Motivation\n",
    "\n",
    "- Design a Deep Neural Network for image classification with simple architecture from similar building blocks\n",
    "- Introduce to a new dimension of Deep Neural Network call \"cardinality\"\n",
    "- The authors achieved 2nd place in ILSVRC2016 classification task using ResNeXt"
   ],
   "metadata": {
    "collapsed": false,
    "pycharm": {
     "name": "#%% md\n"
    }
   }
  },
  {
   "cell_type": "code",
   "execution_count": null,
   "outputs": [],
   "source": [],
   "metadata": {
    "collapsed": false,
    "pycharm": {
     "name": "#%%\n"
    }
   }
  }
 ]
}